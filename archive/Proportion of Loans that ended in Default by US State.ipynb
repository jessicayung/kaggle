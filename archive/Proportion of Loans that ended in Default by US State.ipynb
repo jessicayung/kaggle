{
 "cells": [
  {
   "cell_type": "markdown",
   "metadata": {},
   "source": [
    "# Proportion of Loans that end in Default by US State\n",
    "\n",
    "Data from the [Lending Club](https://www.kaggle.com/wendykan/lending-club-loan-data).\n",
    "\n",
    "<b>Final map [here](http://jsfiddle.net/jessicayung/p381avf1/2/)</b>.\n",
    "\n",
    "Written on 2 Sept 2016 by Jessica Yung"
   ]
  },
  {
   "cell_type": "code",
   "execution_count": 1,
   "metadata": {
    "collapsed": true
   },
   "outputs": [],
   "source": [
    "import pandas as pd\n",
    "import numpy as np\n",
    "%matplotlib inline\n",
    "import seaborn as sns\n",
    "import matplotlib.pyplot as plt"
   ]
  },
  {
   "cell_type": "code",
   "execution_count": 2,
   "metadata": {
    "collapsed": false
   },
   "outputs": [
    {
     "name": "stderr",
     "output_type": "stream",
     "text": [
      "/Users/jessica/anaconda/lib/python3.5/site-packages/IPython/core/interactiveshell.py:2723: DtypeWarning: Columns (19,55) have mixed types. Specify dtype option on import or set low_memory=False.\n",
      "  interactivity=interactivity, compiler=compiler, result=result)\n"
     ]
    }
   ],
   "source": [
    "# Import data\n",
    "df = pd.read_csv(\"kaggle-data/lending-club-loans/loan.csv\")"
   ]
  },
  {
   "cell_type": "code",
   "execution_count": 3,
   "metadata": {
    "collapsed": false
   },
   "outputs": [
    {
     "name": "stdout",
     "output_type": "stream",
     "text": [
      "<class 'pandas.core.frame.DataFrame'>\n",
      "RangeIndex: 887379 entries, 0 to 887378\n",
      "Data columns (total 74 columns):\n",
      "id                             887379 non-null int64\n",
      "member_id                      887379 non-null int64\n",
      "loan_amnt                      887379 non-null float64\n",
      "funded_amnt                    887379 non-null float64\n",
      "funded_amnt_inv                887379 non-null float64\n",
      "term                           887379 non-null object\n",
      "int_rate                       887379 non-null float64\n",
      "installment                    887379 non-null float64\n",
      "grade                          887379 non-null object\n",
      "sub_grade                      887379 non-null object\n",
      "emp_title                      835922 non-null object\n",
      "emp_length                     887379 non-null object\n",
      "home_ownership                 887379 non-null object\n",
      "annual_inc                     887375 non-null float64\n",
      "verification_status            887379 non-null object\n",
      "issue_d                        887379 non-null object\n",
      "loan_status                    887379 non-null object\n",
      "pymnt_plan                     887379 non-null object\n",
      "url                            887379 non-null object\n",
      "desc                           126029 non-null object\n",
      "purpose                        887379 non-null object\n",
      "title                          887228 non-null object\n",
      "zip_code                       887379 non-null object\n",
      "addr_state                     887379 non-null object\n",
      "dti                            887379 non-null float64\n",
      "delinq_2yrs                    887350 non-null float64\n",
      "earliest_cr_line               887350 non-null object\n",
      "inq_last_6mths                 887350 non-null float64\n",
      "mths_since_last_delinq         433067 non-null float64\n",
      "mths_since_last_record         137053 non-null float64\n",
      "open_acc                       887350 non-null float64\n",
      "pub_rec                        887350 non-null float64\n",
      "revol_bal                      887379 non-null float64\n",
      "revol_util                     886877 non-null float64\n",
      "total_acc                      887350 non-null float64\n",
      "initial_list_status            887379 non-null object\n",
      "out_prncp                      887379 non-null float64\n",
      "out_prncp_inv                  887379 non-null float64\n",
      "total_pymnt                    887379 non-null float64\n",
      "total_pymnt_inv                887379 non-null float64\n",
      "total_rec_prncp                887379 non-null float64\n",
      "total_rec_int                  887379 non-null float64\n",
      "total_rec_late_fee             887379 non-null float64\n",
      "recoveries                     887379 non-null float64\n",
      "collection_recovery_fee        887379 non-null float64\n",
      "last_pymnt_d                   869720 non-null object\n",
      "last_pymnt_amnt                887379 non-null float64\n",
      "next_pymnt_d                   634408 non-null object\n",
      "last_credit_pull_d             887326 non-null object\n",
      "collections_12_mths_ex_med     887234 non-null float64\n",
      "mths_since_last_major_derog    221703 non-null float64\n",
      "policy_code                    887379 non-null float64\n",
      "application_type               887379 non-null object\n",
      "annual_inc_joint               511 non-null float64\n",
      "dti_joint                      509 non-null float64\n",
      "verification_status_joint      511 non-null object\n",
      "acc_now_delinq                 887350 non-null float64\n",
      "tot_coll_amt                   817103 non-null float64\n",
      "tot_cur_bal                    817103 non-null float64\n",
      "open_acc_6m                    21372 non-null float64\n",
      "open_il_6m                     21372 non-null float64\n",
      "open_il_12m                    21372 non-null float64\n",
      "open_il_24m                    21372 non-null float64\n",
      "mths_since_rcnt_il             20810 non-null float64\n",
      "total_bal_il                   21372 non-null float64\n",
      "il_util                        18617 non-null float64\n",
      "open_rv_12m                    21372 non-null float64\n",
      "open_rv_24m                    21372 non-null float64\n",
      "max_bal_bc                     21372 non-null float64\n",
      "all_util                       21372 non-null float64\n",
      "total_rev_hi_lim               817103 non-null float64\n",
      "inq_fi                         21372 non-null float64\n",
      "total_cu_tl                    21372 non-null float64\n",
      "inq_last_12m                   21372 non-null float64\n",
      "dtypes: float64(49), int64(2), object(23)\n",
      "memory usage: 501.0+ MB\n"
     ]
    }
   ],
   "source": [
    "df.info()"
   ]
  },
  {
   "cell_type": "code",
   "execution_count": 4,
   "metadata": {
    "collapsed": false
   },
   "outputs": [
    {
     "data": {
      "text/html": [
       "<div>\n",
       "<table border=\"1\" class=\"dataframe\">\n",
       "  <thead>\n",
       "    <tr style=\"text-align: right;\">\n",
       "      <th></th>\n",
       "      <th>id</th>\n",
       "      <th>member_id</th>\n",
       "      <th>loan_amnt</th>\n",
       "      <th>funded_amnt</th>\n",
       "      <th>funded_amnt_inv</th>\n",
       "      <th>term</th>\n",
       "      <th>int_rate</th>\n",
       "      <th>installment</th>\n",
       "      <th>grade</th>\n",
       "      <th>sub_grade</th>\n",
       "      <th>...</th>\n",
       "      <th>total_bal_il</th>\n",
       "      <th>il_util</th>\n",
       "      <th>open_rv_12m</th>\n",
       "      <th>open_rv_24m</th>\n",
       "      <th>max_bal_bc</th>\n",
       "      <th>all_util</th>\n",
       "      <th>total_rev_hi_lim</th>\n",
       "      <th>inq_fi</th>\n",
       "      <th>total_cu_tl</th>\n",
       "      <th>inq_last_12m</th>\n",
       "    </tr>\n",
       "  </thead>\n",
       "  <tbody>\n",
       "    <tr>\n",
       "      <th>0</th>\n",
       "      <td>1077501</td>\n",
       "      <td>1296599</td>\n",
       "      <td>5000.0</td>\n",
       "      <td>5000.0</td>\n",
       "      <td>4975.0</td>\n",
       "      <td>36 months</td>\n",
       "      <td>10.65</td>\n",
       "      <td>162.87</td>\n",
       "      <td>B</td>\n",
       "      <td>B2</td>\n",
       "      <td>...</td>\n",
       "      <td>NaN</td>\n",
       "      <td>NaN</td>\n",
       "      <td>NaN</td>\n",
       "      <td>NaN</td>\n",
       "      <td>NaN</td>\n",
       "      <td>NaN</td>\n",
       "      <td>NaN</td>\n",
       "      <td>NaN</td>\n",
       "      <td>NaN</td>\n",
       "      <td>NaN</td>\n",
       "    </tr>\n",
       "    <tr>\n",
       "      <th>1</th>\n",
       "      <td>1077430</td>\n",
       "      <td>1314167</td>\n",
       "      <td>2500.0</td>\n",
       "      <td>2500.0</td>\n",
       "      <td>2500.0</td>\n",
       "      <td>60 months</td>\n",
       "      <td>15.27</td>\n",
       "      <td>59.83</td>\n",
       "      <td>C</td>\n",
       "      <td>C4</td>\n",
       "      <td>...</td>\n",
       "      <td>NaN</td>\n",
       "      <td>NaN</td>\n",
       "      <td>NaN</td>\n",
       "      <td>NaN</td>\n",
       "      <td>NaN</td>\n",
       "      <td>NaN</td>\n",
       "      <td>NaN</td>\n",
       "      <td>NaN</td>\n",
       "      <td>NaN</td>\n",
       "      <td>NaN</td>\n",
       "    </tr>\n",
       "    <tr>\n",
       "      <th>2</th>\n",
       "      <td>1077175</td>\n",
       "      <td>1313524</td>\n",
       "      <td>2400.0</td>\n",
       "      <td>2400.0</td>\n",
       "      <td>2400.0</td>\n",
       "      <td>36 months</td>\n",
       "      <td>15.96</td>\n",
       "      <td>84.33</td>\n",
       "      <td>C</td>\n",
       "      <td>C5</td>\n",
       "      <td>...</td>\n",
       "      <td>NaN</td>\n",
       "      <td>NaN</td>\n",
       "      <td>NaN</td>\n",
       "      <td>NaN</td>\n",
       "      <td>NaN</td>\n",
       "      <td>NaN</td>\n",
       "      <td>NaN</td>\n",
       "      <td>NaN</td>\n",
       "      <td>NaN</td>\n",
       "      <td>NaN</td>\n",
       "    </tr>\n",
       "    <tr>\n",
       "      <th>3</th>\n",
       "      <td>1076863</td>\n",
       "      <td>1277178</td>\n",
       "      <td>10000.0</td>\n",
       "      <td>10000.0</td>\n",
       "      <td>10000.0</td>\n",
       "      <td>36 months</td>\n",
       "      <td>13.49</td>\n",
       "      <td>339.31</td>\n",
       "      <td>C</td>\n",
       "      <td>C1</td>\n",
       "      <td>...</td>\n",
       "      <td>NaN</td>\n",
       "      <td>NaN</td>\n",
       "      <td>NaN</td>\n",
       "      <td>NaN</td>\n",
       "      <td>NaN</td>\n",
       "      <td>NaN</td>\n",
       "      <td>NaN</td>\n",
       "      <td>NaN</td>\n",
       "      <td>NaN</td>\n",
       "      <td>NaN</td>\n",
       "    </tr>\n",
       "    <tr>\n",
       "      <th>4</th>\n",
       "      <td>1075358</td>\n",
       "      <td>1311748</td>\n",
       "      <td>3000.0</td>\n",
       "      <td>3000.0</td>\n",
       "      <td>3000.0</td>\n",
       "      <td>60 months</td>\n",
       "      <td>12.69</td>\n",
       "      <td>67.79</td>\n",
       "      <td>B</td>\n",
       "      <td>B5</td>\n",
       "      <td>...</td>\n",
       "      <td>NaN</td>\n",
       "      <td>NaN</td>\n",
       "      <td>NaN</td>\n",
       "      <td>NaN</td>\n",
       "      <td>NaN</td>\n",
       "      <td>NaN</td>\n",
       "      <td>NaN</td>\n",
       "      <td>NaN</td>\n",
       "      <td>NaN</td>\n",
       "      <td>NaN</td>\n",
       "    </tr>\n",
       "  </tbody>\n",
       "</table>\n",
       "<p>5 rows × 74 columns</p>\n",
       "</div>"
      ],
      "text/plain": [
       "        id  member_id  loan_amnt  funded_amnt  funded_amnt_inv        term  \\\n",
       "0  1077501    1296599     5000.0       5000.0           4975.0   36 months   \n",
       "1  1077430    1314167     2500.0       2500.0           2500.0   60 months   \n",
       "2  1077175    1313524     2400.0       2400.0           2400.0   36 months   \n",
       "3  1076863    1277178    10000.0      10000.0          10000.0   36 months   \n",
       "4  1075358    1311748     3000.0       3000.0           3000.0   60 months   \n",
       "\n",
       "   int_rate  installment grade sub_grade     ...      total_bal_il il_util  \\\n",
       "0     10.65       162.87     B        B2     ...               NaN     NaN   \n",
       "1     15.27        59.83     C        C4     ...               NaN     NaN   \n",
       "2     15.96        84.33     C        C5     ...               NaN     NaN   \n",
       "3     13.49       339.31     C        C1     ...               NaN     NaN   \n",
       "4     12.69        67.79     B        B5     ...               NaN     NaN   \n",
       "\n",
       "  open_rv_12m  open_rv_24m max_bal_bc all_util total_rev_hi_lim inq_fi  \\\n",
       "0         NaN          NaN        NaN      NaN              NaN    NaN   \n",
       "1         NaN          NaN        NaN      NaN              NaN    NaN   \n",
       "2         NaN          NaN        NaN      NaN              NaN    NaN   \n",
       "3         NaN          NaN        NaN      NaN              NaN    NaN   \n",
       "4         NaN          NaN        NaN      NaN              NaN    NaN   \n",
       "\n",
       "  total_cu_tl inq_last_12m  \n",
       "0         NaN          NaN  \n",
       "1         NaN          NaN  \n",
       "2         NaN          NaN  \n",
       "3         NaN          NaN  \n",
       "4         NaN          NaN  \n",
       "\n",
       "[5 rows x 74 columns]"
      ]
     },
     "execution_count": 4,
     "metadata": {},
     "output_type": "execute_result"
    }
   ],
   "source": [
    "df.head()"
   ]
  },
  {
   "cell_type": "markdown",
   "metadata": {},
   "source": [
    "# Feature Engineering\n"
   ]
  },
  {
   "cell_type": "code",
   "execution_count": 5,
   "metadata": {
    "collapsed": true
   },
   "outputs": [],
   "source": [
    "is_default_dict = {'Default': 1,\n",
    "                   'Does not meet the credit policy. Status:Charged Off': 1, \n",
    "                    'Charged Off': 1,\n",
    "                    'In Grace Period': 0, \n",
    "                    'Does not meet the credit policy. Status:Fully Paid': 0, \n",
    "                    'Issued': 0, \n",
    "                    'Late (16-30 days)': 0, \n",
    "                    'Late (31-120 days)': 0,\n",
    "                    'Current': 0, \n",
    "                    'Fully Paid': 0}\n",
    "\n",
    "def is_default():\n",
    "    df['is_default'] = 0\n",
    "    df['is_default'] = df['loan_status'].map(is_default_dict).astype(int)\n",
    "is_default()"
   ]
  },
  {
   "cell_type": "code",
   "execution_count": 6,
   "metadata": {
    "collapsed": true
   },
   "outputs": [],
   "source": [
    "is_loan_ended_dict = {'Default': 1,\n",
    "                      'Does not meet the credit policy. Status:Charged Off': 1, \n",
    "                    'Charged Off': 1,\n",
    "                    'In Grace Period': 0, \n",
    "                    'Does not meet the credit policy. Status:Fully Paid': 1, \n",
    "                    'Issued': 0, \n",
    "                    'Late (16-30 days)': 0, \n",
    "                    'Late (31-120 days)': 0,\n",
    "                    'Current': 0, \n",
    "                    'Fully Paid': 1}\n",
    "\n",
    "def is_loan_ended():\n",
    "    df['is_loan_ended'] = 0\n",
    "    df['is_loan_ended'] = df['loan_status'].map(is_loan_ended_dict)\n",
    "is_loan_ended()"
   ]
  },
  {
   "cell_type": "markdown",
   "metadata": {},
   "source": [
    "# Exploratory Plots"
   ]
  },
  {
   "cell_type": "code",
   "execution_count": 23,
   "metadata": {
    "collapsed": false
   },
   "outputs": [
    {
     "name": "stdout",
     "output_type": "stream",
     "text": [
      "Proportion of loans that ended in default 0.1838101650586326\n"
     ]
    },
    {
     "data": {
      "image/png": "[encoded data removed]",
      "text/plain": [
       "<matplotlib.figure.Figure at 0x118763860>"
      ]
     },
     "metadata": {},
     "output_type": "display_data"
    }
   ],
   "source": [
    "ended_loans = df[df['is_loan_ended'] == True]\n",
    "sns.countplot(x=\"is_default\", data=ended_loans)\n",
    "print(\"Proportion of loans that ended in default\", np.mean(ended_loans['is_default']))"
   ]
  },
  {
   "cell_type": "code",
   "execution_count": 24,
   "metadata": {
    "collapsed": false
   },
   "outputs": [
    {
     "data": {
      "text/plain": [
       "<matplotlib.axes._subplots.AxesSubplot at 0x106e4a9b0>"
      ]
     },
     "execution_count": 24,
     "metadata": {},
     "output_type": "execute_result"
    },
    {
     "data": {
      "image/png": "[encoded data removed]",
      "text/plain": [
       "<matplotlib.figure.Figure at 0x11d905a20>"
      ]
     },
     "metadata": {},
     "output_type": "display_data"
    }
   ],
   "source": [
    "# Total number of loans taken out per state\n",
    "plt.subplots(figsize=(6, 15))\n",
    "sns.countplot(y=\"addr_state\", data=df)"
   ]
  },
  {
   "cell_type": "code",
   "execution_count": 22,
   "metadata": {
    "collapsed": false
   },
   "outputs": [
    {
     "data": {
      "text/plain": [
       "<matplotlib.axes._subplots.AxesSubplot at 0x118591978>"
      ]
     },
     "execution_count": 22,
     "metadata": {},
     "output_type": "execute_result"
    },
    {
     "data": {
      "image/png": "[encoded data removed]",
      "text/plain": [
       "<matplotlib.figure.Figure at 0x117b11860>"
      ]
     },
     "metadata": {},
     "output_type": "display_data"
    }
   ],
   "source": [
    "# Loans taken out per state: Ended vs not\n",
    "plt.subplots(figsize=(6, 15))\n",
    "sns.countplot(y=\"addr_state\", hue=\"is_loan_ended\",data=df)"
   ]
  },
  {
   "cell_type": "code",
   "execution_count": 25,
   "metadata": {
    "collapsed": false,
    "scrolled": false
   },
   "outputs": [
    {
     "data": {
      "text/plain": [
       "<matplotlib.axes._subplots.AxesSubplot at 0x118571c88>"
      ]
     },
     "execution_count": 25,
     "metadata": {},
     "output_type": "execute_result"
    },
    {
     "data": {
      "image/png": "[encoded data removed]",
      "text/plain": [
       "<matplotlib.figure.Figure at 0x114676518>"
      ]
     },
     "metadata": {},
     "output_type": "display_data"
    }
   ],
   "source": [
    "# Ended loans that ended in default vs not per state\n",
    "plt.subplots(figsize=(6, 15))\n",
    "sns.countplot(y=\"addr_state\", hue=\"is_default\",data=ended_loans)"
   ]
  },
  {
   "cell_type": "markdown",
   "metadata": {},
   "source": [
    "# Final Plot Idea and Implementation\n",
    "How about we plot the <b>proportion of loans that end in default from each state</b> to see if there is any relationship between the two?\n",
    "\n",
    "<pre>\n",
    "Proportion of people who borrow who default from each state = number of loans that ended in default (per state) / number of loans that ended (per state)\n",
    "</pre>\n"
   ]
  },
  {
   "cell_type": "code",
   "execution_count": 29,
   "metadata": {
    "collapsed": false,
    "scrolled": true
   },
   "outputs": [
    {
     "data": {
      "text/plain": [
       "{'AK': 670,\n",
       " 'AL': 3188,\n",
       " 'AR': 1777,\n",
       " 'AZ': 6167,\n",
       " 'CA': 43645,\n",
       " 'CO': 5703,\n",
       " 'CT': 3751,\n",
       " 'DC': 849,\n",
       " 'DE': 694,\n",
       " 'FL': 17872,\n",
       " 'GA': 8154,\n",
       " 'HI': 1493,\n",
       " 'IA': 13,\n",
       " 'ID': 9,\n",
       " 'IL': 9428,\n",
       " 'IN': 2829,\n",
       " 'KS': 2114,\n",
       " 'KY': 2315,\n",
       " 'LA': 2995,\n",
       " 'MA': 6262,\n",
       " 'MD': 6100,\n",
       " 'ME': 13,\n",
       " 'MI': 6102,\n",
       " 'MN': 4516,\n",
       " 'MO': 4049,\n",
       " 'MS': 432,\n",
       " 'MT': 753,\n",
       " 'NC': 6993,\n",
       " 'ND': 8,\n",
       " 'NE': 44,\n",
       " 'NH': 1167,\n",
       " 'NJ': 9783,\n",
       " 'NM': 1400,\n",
       " 'NV': 3865,\n",
       " 'NY': 21692,\n",
       " 'OH': 7881,\n",
       " 'OK': 2156,\n",
       " 'OR': 3378,\n",
       " 'PA': 8570,\n",
       " 'RI': 1101,\n",
       " 'SC': 2850,\n",
       " 'SD': 548,\n",
       " 'TN': 2463,\n",
       " 'TX': 19635,\n",
       " 'UT': 2139,\n",
       " 'VA': 8050,\n",
       " 'VT': 432,\n",
       " 'WA': 5983,\n",
       " 'WI': 3148,\n",
       " 'WV': 1153,\n",
       " 'WY': 607}"
      ]
     },
     "execution_count": 29,
     "metadata": {},
     "output_type": "execute_result"
    }
   ],
   "source": [
    "total_ended_loans_by_state = {}\n",
    "for i in addr_states:\n",
    "    total_ended_loans_by_state[i] = len(df[(df[\"addr_state\"] == i) \n",
    "                                           & df[\"is_loan_ended\"] == True])\n",
    "total_ended_loans_by_state"
   ]
  },
  {
   "cell_type": "code",
   "execution_count": 27,
   "metadata": {
    "collapsed": false,
    "scrolled": true
   },
   "outputs": [
    {
     "data": {
      "text/plain": [
       "{'AK': 99,\n",
       " 'AL': 679,\n",
       " 'AR': 351,\n",
       " 'AZ': 1106,\n",
       " 'CA': 7644,\n",
       " 'CO': 822,\n",
       " 'CT': 634,\n",
       " 'DC': 91,\n",
       " 'DE': 130,\n",
       " 'FL': 3691,\n",
       " 'GA': 1431,\n",
       " 'HI': 286,\n",
       " 'IA': 3,\n",
       " 'ID': 1,\n",
       " 'IL': 1606,\n",
       " 'IN': 652,\n",
       " 'KS': 366,\n",
       " 'KY': 461,\n",
       " 'LA': 589,\n",
       " 'MA': 1070,\n",
       " 'MD': 1146,\n",
       " 'ME': 0,\n",
       " 'MI': 1201,\n",
       " 'MN': 834,\n",
       " 'MO': 823,\n",
       " 'MS': 94,\n",
       " 'MT': 107,\n",
       " 'NC': 1351,\n",
       " 'ND': 0,\n",
       " 'NE': 7,\n",
       " 'NH': 162,\n",
       " 'NJ': 1916,\n",
       " 'NM': 280,\n",
       " 'NV': 846,\n",
       " 'NY': 4287,\n",
       " 'OH': 1530,\n",
       " 'OK': 432,\n",
       " 'OR': 558,\n",
       " 'PA': 1639,\n",
       " 'RI': 198,\n",
       " 'SC': 468,\n",
       " 'SD': 92,\n",
       " 'TN': 589,\n",
       " 'TX': 3201,\n",
       " 'UT': 362,\n",
       " 'VA': 1483,\n",
       " 'VT': 72,\n",
       " 'WA': 1024,\n",
       " 'WI': 564,\n",
       " 'WV': 167,\n",
       " 'WY': 83}"
      ]
     },
     "execution_count": 27,
     "metadata": {},
     "output_type": "execute_result"
    }
   ],
   "source": [
    "defaulted_ended_loans_by_state = {}\n",
    "for i in set(df[\"addr_state\"].values):\n",
    "    defaulted_ended_loans_by_state[i] = len(df[(df[\"addr_state\"] == i) \n",
    "                                           & (df[\"is_loan_ended\"] == True) \n",
    "                                           & (df[\"is_default\"] == True)])\n",
    "\n",
    "defaulted_ended_loans_by_state"
   ]
  },
  {
   "cell_type": "code",
   "execution_count": 30,
   "metadata": {
    "collapsed": false
   },
   "outputs": [
    {
     "data": {
      "text/plain": [
       "{'AK': 0.14776119402985075,\n",
       " 'AL': 0.2129861982434128,\n",
       " 'AR': 0.19752391671356218,\n",
       " 'AZ': 0.1793416572077185,\n",
       " 'CA': 0.17514033680834,\n",
       " 'CO': 0.14413466596528143,\n",
       " 'CT': 0.1690215942415356,\n",
       " 'DC': 0.1071849234393404,\n",
       " 'DE': 0.1873198847262248,\n",
       " 'FL': 0.20652417188898836,\n",
       " 'GA': 0.17549668874172186,\n",
       " 'HI': 0.19156061620897522,\n",
       " 'IA': 0.23076923076923078,\n",
       " 'ID': 0.1111111111111111,\n",
       " 'IL': 0.17034365719134492,\n",
       " 'IN': 0.2304701307882644,\n",
       " 'KS': 0.17313150425733206,\n",
       " 'KY': 0.19913606911447085,\n",
       " 'LA': 0.196661101836394,\n",
       " 'MA': 0.17087192590226766,\n",
       " 'MD': 0.18786885245901638,\n",
       " 'ME': 0.0,\n",
       " 'MI': 0.19682071451982958,\n",
       " 'MN': 0.18467670504871567,\n",
       " 'MO': 0.20326006421338602,\n",
       " 'MS': 0.2175925925925926,\n",
       " 'MT': 0.14209827357237717,\n",
       " 'NC': 0.1931931931931932,\n",
       " 'ND': 0.0,\n",
       " 'NE': 0.1590909090909091,\n",
       " 'NH': 0.13881748071979436,\n",
       " 'NJ': 0.19584994378002657,\n",
       " 'NM': 0.2,\n",
       " 'NV': 0.21888745148771022,\n",
       " 'NY': 0.1976304628434446,\n",
       " 'OH': 0.1941377997716026,\n",
       " 'OK': 0.20037105751391465,\n",
       " 'OR': 0.16518650088809947,\n",
       " 'PA': 0.1912485414235706,\n",
       " 'RI': 0.17983651226158037,\n",
       " 'SC': 0.16421052631578947,\n",
       " 'SD': 0.1678832116788321,\n",
       " 'TN': 0.2391392610637434,\n",
       " 'TX': 0.16302521008403362,\n",
       " 'UT': 0.16923796166432914,\n",
       " 'VA': 0.18422360248447206,\n",
       " 'VT': 0.16666666666666666,\n",
       " 'WA': 0.17115159618920275,\n",
       " 'WI': 0.17916137229987295,\n",
       " 'WV': 0.1448395490026019,\n",
       " 'WY': 0.13673805601317957}"
      ]
     },
     "execution_count": 30,
     "metadata": {},
     "output_type": "execute_result"
    }
   ],
   "source": [
    "proportion_ended_defaulted_by_state = {}\n",
    "for i in addr_states:\n",
    "    proportion_ended_defaulted_by_state[i] = defaulted_ended_loans_by_state[i] / total_ended_loans_by_state[i]\n",
    "proportion_ended_defaulted_by_state"
   ]
  },
  {
   "cell_type": "markdown",
   "metadata": {},
   "source": [
    "Now we can plot this data on a [<b>map</b>](http://jsfiddle.net/jessicayung/p381avf1/2/)."
   ]
  }
 ],
 "metadata": {
  "kernelspec": {
   "display_name": "Python 3",
   "language": "python",
   "name": "python3"
  },
  "language_info": {
   "codemirror_mode": {
    "name": "ipython",
    "version": 3
   },
   "file_extension": ".py",
   "mimetype": "text/x-python",
   "name": "python",
   "nbconvert_exporter": "python",
   "pygments_lexer": "ipython3",
   "version": "3.5.1"
  }
 },
 "nbformat": 4,
 "nbformat_minor": 0
}
